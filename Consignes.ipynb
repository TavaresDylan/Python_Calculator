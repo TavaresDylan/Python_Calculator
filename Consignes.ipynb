{
 "cells": [
  {
   "cell_type": "markdown",
   "metadata": {},
   "source": [
    "# Exercice - Calculette\n",
    "\n",
    "- Add a class Calculator (calculator.py)\n",
    "- Its constructor take one argument 'base_nb'\n",
    "\n",
    "Add these methods :\n",
    "\n",
    "- [x] add(nb)\n",
    "\n",
    "- [x] subtract(nb)\n",
    "\n",
    "- [x] multiply(nb)\n",
    "\n",
    "- [x] divide(nb)\n",
    "\n",
    "- [x] throws an error if nb = 0\n",
    "\n",
    "\n",
    "- [x] power(nb, power)\n",
    "\n",
    "- [x] isMultipleOf(nb)\n",
    "\n",
    "- [x] isInList(list)\n",
    "\n",
    "- [x] getResult()\n",
    "\n",
    "- [x] reset()\n",
    "\n",
    "- getQuotientAndRemainderBy(nb)\n",
    "\n",
    "- getInferiorIntegers()"
   ]
  },
  {
   "cell_type": "markdown",
   "metadata": {},
   "source": [
    "# Your code must work as follows:\n",
    "- [x] myCalc = new Calculator(10)\n",
    "myCalc.getResult() # => 10\n",
    "\n",
    "- [x] myCalc.add(3)\n",
    "myCalc.getResult() # => 13\n",
    "\n",
    "- [x] myCalc.multiply(2)\n",
    "myCalc.getResult() # => 26\n",
    "\n",
    "- [x] myCalc.subtract(6)\n",
    "myCalc.getResult() # => 20\n",
    "\n",
    "- [x] myCalc.reset()\n",
    "myCalc.getResult() # => 0\n",
    "\n",
    "- [x] myCalc.add(10)\n",
    "myCalc.getResult() # => 10\n",
    "\n",
    "- [x] myCalc.isMultipleOf(3) # => False\n",
    "myCalc.isMultipleOf(5) # => True\n",
    "\n",
    "- [x] myCalc.power(2)\n",
    "myCalc.getResult() # => 100\n",
    "\n",
    "- [x] myCalc.divide(2)\n",
    "myCalc.getResult() # => 50\n",
    "\n",
    "- [x] myCalc.isInList([1, 2, 3]) # => False\n",
    "myCalc.isInList([1, 2, 50]) # => True\n",
    "\n",
    "myCalc.getQuotientAndRemainderBy(5) # => (10, 0)\n",
    "myCalc.getQuotientAndRemainderBy(4) # => (12, 2)\n",
    "myCalc.getQuotientAndRemainderBy(11) # => (4, 6)\n",
    "\n",
    "myCalc.reset(7)\n",
    "myCalc.getResult() # => 7\n",
    "myCalc.getInferiorIntegers() # => [1, 2, 3, 4, 5, 6]\n"
   ]
  },
  {
   "cell_type": "code",
   "execution_count": null,
   "metadata": {},
   "outputs": [],
   "source": []
  }
 ],
 "metadata": {
  "kernelspec": {
   "display_name": "Python 3",
   "language": "python",
   "name": "python3"
  },
  "language_info": {
   "codemirror_mode": {
    "name": "ipython",
    "version": 3
   },
   "file_extension": ".py",
   "mimetype": "text/x-python",
   "name": "python",
   "nbconvert_exporter": "python",
   "pygments_lexer": "ipython3",
   "version": "3.8.5"
  }
 },
 "nbformat": 4,
 "nbformat_minor": 4
}
